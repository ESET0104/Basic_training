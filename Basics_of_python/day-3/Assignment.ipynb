{
 "cells": [
  {
   "cell_type": "markdown",
   "id": "0fe5af8f",
   "metadata": {},
   "source": [
    "# Assignment - Day 3"
   ]
  },
  {
   "cell_type": "markdown",
   "id": "b910d75f",
   "metadata": {},
   "source": [
    "## Importing libraries"
   ]
  },
  {
   "cell_type": "code",
   "execution_count": 1,
   "id": "a384be29",
   "metadata": {},
   "outputs": [],
   "source": [
    "import numpy as np\n",
    "import pandas as pd"
   ]
  },
  {
   "cell_type": "markdown",
   "id": "c1b011ba",
   "metadata": {},
   "source": [
    "### Task 1: Creating 2D matrix of shape (3,3)"
   ]
  },
  {
   "cell_type": "code",
   "execution_count": 3,
   "id": "056ee0d6",
   "metadata": {},
   "outputs": [],
   "source": [
    "arr = np.array([[1,2,3],[4,5,6],[7,8,9]])"
   ]
  },
  {
   "cell_type": "markdown",
   "id": "3d273aae",
   "metadata": {},
   "source": [
    "#### Multiplying every element by 2"
   ]
  },
  {
   "cell_type": "code",
   "execution_count": 4,
   "id": "51bac274",
   "metadata": {},
   "outputs": [],
   "source": [
    "arr2 = arr*2"
   ]
  },
  {
   "cell_type": "markdown",
   "id": "8608521e",
   "metadata": {},
   "source": [
    "#### print old and new arrays"
   ]
  },
  {
   "cell_type": "code",
   "execution_count": 8,
   "id": "ace27cb5",
   "metadata": {},
   "outputs": [
    {
     "name": "stdout",
     "output_type": "stream",
     "text": [
      "old array: \n",
      " [[1 2 3]\n",
      " [4 5 6]\n",
      " [7 8 9]]\n",
      "\n",
      "new array: \n",
      " [[ 2  4  6]\n",
      " [ 8 10 12]\n",
      " [14 16 18]]\n"
     ]
    }
   ],
   "source": [
    "print(\"old array: \\n\",arr)\n",
    "print(\"\\nnew array: \\n\", arr2)"
   ]
  },
  {
   "cell_type": "markdown",
   "id": "6abc4f03",
   "metadata": {},
   "source": [
    "## Task 2: Create a Dataframe from a dictionary"
   ]
  },
  {
   "cell_type": "code",
   "execution_count": 11,
   "id": "fc829396",
   "metadata": {},
   "outputs": [
    {
     "name": "stdout",
     "output_type": "stream",
     "text": [
      "dataframe:\n",
      "  product_name   price  stock_quantity\n",
      "0         gold  100000              30\n",
      "1       silver   50000              80\n",
      "2         iron   10000              60\n",
      "3       copper   20000              40\n"
     ]
    }
   ],
   "source": [
    "dc = {\"product_name\": [\"gold\", \"silver\", \"iron\", \"copper\"],\n",
    "      \"price\": [100000, 50000, 10000, 20000],\n",
    "      \"stock_quantity\": [30, 80, 60, 40]}\n",
    "\n",
    "df = pd.DataFrame(dc)\n",
    "\n",
    "print(f\"dataframe:\\n{df}\")"
   ]
  },
  {
   "cell_type": "markdown",
   "id": "9d49d3ce",
   "metadata": {},
   "source": [
    "## Task 3: Data filtering operation on the DataFrame"
   ]
  },
  {
   "cell_type": "code",
   "execution_count": 12,
   "id": "ce9313a2",
   "metadata": {},
   "outputs": [
    {
     "name": "stdout",
     "output_type": "stream",
     "text": [
      "filtered DataFrame: \n",
      "  product_name  price  stock_quantity\n",
      "1       silver  50000              80\n",
      "2         iron  10000              60\n"
     ]
    }
   ],
   "source": [
    "filtered_df = df[df[\"stock_quantity\"] > 50]\n",
    "print(f\"filtered DataFrame: \\n{filtered_df}\")"
   ]
  }
 ],
 "metadata": {
  "kernelspec": {
   "display_name": "Python 3",
   "language": "python",
   "name": "python3"
  },
  "language_info": {
   "codemirror_mode": {
    "name": "ipython",
    "version": 3
   },
   "file_extension": ".py",
   "mimetype": "text/x-python",
   "name": "python",
   "nbconvert_exporter": "python",
   "pygments_lexer": "ipython3",
   "version": "3.11.9"
  }
 },
 "nbformat": 4,
 "nbformat_minor": 5
}
