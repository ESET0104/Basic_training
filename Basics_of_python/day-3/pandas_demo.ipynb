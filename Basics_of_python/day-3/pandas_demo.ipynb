{
 "cells": [
  {
   "cell_type": "markdown",
   "id": "f3201890",
   "metadata": {},
   "source": [
    "install pandas"
   ]
  },
  {
   "cell_type": "code",
   "execution_count": 1,
   "id": "9504754f",
   "metadata": {},
   "outputs": [
    {
     "name": "stdout",
     "output_type": "stream",
     "text": [
      "Requirement already satisfied: pandas in c:\\users\\user\\appdata\\local\\programs\\python\\python311\\lib\\site-packages (2.3.2)\n",
      "Requirement already satisfied: numpy>=1.23.2 in c:\\users\\user\\appdata\\local\\programs\\python\\python311\\lib\\site-packages (from pandas) (2.3.2)\n",
      "Requirement already satisfied: python-dateutil>=2.8.2 in c:\\users\\user\\appdata\\local\\programs\\python\\python311\\lib\\site-packages (from pandas) (2.9.0.post0)\n",
      "Requirement already satisfied: pytz>=2020.1 in c:\\users\\user\\appdata\\local\\programs\\python\\python311\\lib\\site-packages (from pandas) (2025.2)\n",
      "Requirement already satisfied: tzdata>=2022.7 in c:\\users\\user\\appdata\\local\\programs\\python\\python311\\lib\\site-packages (from pandas) (2025.2)\n",
      "Requirement already satisfied: six>=1.5 in c:\\users\\user\\appdata\\local\\programs\\python\\python311\\lib\\site-packages (from python-dateutil>=2.8.2->pandas) (1.17.0)\n",
      "Note: you may need to restart the kernel to use updated packages.\n"
     ]
    },
    {
     "name": "stderr",
     "output_type": "stream",
     "text": [
      "\n",
      "[notice] A new release of pip is available: 24.3.1 -> 25.2\n",
      "[notice] To update, run: python.exe -m pip install --upgrade pip\n"
     ]
    }
   ],
   "source": [
    "%pip install pandas"
   ]
  },
  {
   "cell_type": "markdown",
   "id": "98bf1363",
   "metadata": {},
   "source": [
    "importing pandas"
   ]
  },
  {
   "cell_type": "code",
   "execution_count": 2,
   "id": "19e91525",
   "metadata": {},
   "outputs": [],
   "source": [
    "import pandas as pd"
   ]
  },
  {
   "cell_type": "markdown",
   "id": "2c81e057",
   "metadata": {},
   "source": [
    "creating a pandas series from a list"
   ]
  },
  {
   "cell_type": "code",
   "execution_count": 4,
   "id": "2c0a8984",
   "metadata": {},
   "outputs": [
    {
     "name": "stdout",
     "output_type": "stream",
     "text": [
      "pandas series:\n",
      "0    10\n",
      "1    20\n",
      "2    30\n",
      "3    40\n",
      "Name: MyNumbers, dtype: int64\n",
      "type of series: <class 'pandas.core.series.Series'>\n"
     ]
    }
   ],
   "source": [
    "s = pd.Series([10,20,30,40], name = \"MyNumbers\")\n",
    "print(f\"pandas series:\\n{s}\")\n",
    "print(f\"type of series: {type(s)}\")"
   ]
  },
  {
   "cell_type": "markdown",
   "id": "7635baaa",
   "metadata": {},
   "source": [
    "creating a pandas DataFrame from a dictionary "
   ]
  },
  {
   "cell_type": "code",
   "execution_count": 6,
   "id": "65066769",
   "metadata": {},
   "outputs": [
    {
     "name": "stdout",
     "output_type": "stream",
     "text": [
      "data:\n",
      "{'Name': ['Alice', 'Bob', 'Charlie', 'David'], 'Age': [25, 30, 35, 28], 'City': ['New York', 'London', 'Paris', 'New York'], 'Salary': [70000, 85000, 95000, 72000]}\n",
      "\n",
      "pandas DataFrame:\n",
      "      Name  Age      City  Salary\n",
      "0    Alice   25  New York   70000\n",
      "1      Bob   30    London   85000\n",
      "2  Charlie   35     Paris   95000\n",
      "3    David   28  New York   72000\n"
     ]
    }
   ],
   "source": [
    "data = {\n",
    "    'Name': ['Alice', 'Bob', 'Charlie', 'David'],\n",
    "    'Age': [25,30,35,28],\n",
    "    'City': ['New York', 'London', 'Paris', 'New York'],\n",
    "    'Salary': [70000, 85000, 95000, 72000]\n",
    "}\n",
    "\n",
    "df = pd.DataFrame(data)\n",
    "print(f\"data:\\n{data}\")\n",
    "print(f\"\\npandas DataFrame:\\n{df}\")"
   ]
  },
  {
   "cell_type": "code",
   "execution_count": 9,
   "id": "52cf34a6",
   "metadata": {},
   "outputs": [
    {
     "data": {
      "text/html": [
       "<div>\n",
       "<style scoped>\n",
       "    .dataframe tbody tr th:only-of-type {\n",
       "        vertical-align: middle;\n",
       "    }\n",
       "\n",
       "    .dataframe tbody tr th {\n",
       "        vertical-align: top;\n",
       "    }\n",
       "\n",
       "    .dataframe thead th {\n",
       "        text-align: right;\n",
       "    }\n",
       "</style>\n",
       "<table border=\"1\" class=\"dataframe\">\n",
       "  <thead>\n",
       "    <tr style=\"text-align: right;\">\n",
       "      <th></th>\n",
       "      <th>Date</th>\n",
       "      <th>Open</th>\n",
       "      <th>High</th>\n",
       "      <th>Low</th>\n",
       "      <th>Close</th>\n",
       "      <th>Volume</th>\n",
       "      <th>Market Cap</th>\n",
       "    </tr>\n",
       "  </thead>\n",
       "  <tbody>\n",
       "    <tr>\n",
       "      <th>0</th>\n",
       "      <td>2020-12-12</td>\n",
       "      <td>27.36</td>\n",
       "      <td>28.24</td>\n",
       "      <td>27.33</td>\n",
       "      <td>28.16</td>\n",
       "      <td>238973887.0</td>\n",
       "      <td>4.067131e+09</td>\n",
       "    </tr>\n",
       "    <tr>\n",
       "      <th>1</th>\n",
       "      <td>2020-12-11</td>\n",
       "      <td>27.70</td>\n",
       "      <td>27.74</td>\n",
       "      <td>26.77</td>\n",
       "      <td>27.36</td>\n",
       "      <td>278060132.0</td>\n",
       "      <td>3.951108e+09</td>\n",
       "    </tr>\n",
       "    <tr>\n",
       "      <th>2</th>\n",
       "      <td>2020-12-10</td>\n",
       "      <td>28.13</td>\n",
       "      <td>28.24</td>\n",
       "      <td>27.43</td>\n",
       "      <td>27.70</td>\n",
       "      <td>263890750.0</td>\n",
       "      <td>3.999512e+09</td>\n",
       "    </tr>\n",
       "    <tr>\n",
       "      <th>3</th>\n",
       "      <td>2020-12-09</td>\n",
       "      <td>27.64</td>\n",
       "      <td>28.38</td>\n",
       "      <td>27.00</td>\n",
       "      <td>28.13</td>\n",
       "      <td>323390504.0</td>\n",
       "      <td>4.062056e+09</td>\n",
       "    </tr>\n",
       "    <tr>\n",
       "      <th>4</th>\n",
       "      <td>2020-12-08</td>\n",
       "      <td>29.38</td>\n",
       "      <td>29.49</td>\n",
       "      <td>27.51</td>\n",
       "      <td>27.64</td>\n",
       "      <td>323672206.0</td>\n",
       "      <td>3.990864e+09</td>\n",
       "    </tr>\n",
       "  </tbody>\n",
       "</table>\n",
       "</div>"
      ],
      "text/plain": [
       "         Date   Open   High    Low  Close       Volume    Market Cap\n",
       "0  2020-12-12  27.36  28.24  27.33  28.16  238973887.0  4.067131e+09\n",
       "1  2020-12-11  27.70  27.74  26.77  27.36  278060132.0  3.951108e+09\n",
       "2  2020-12-10  28.13  28.24  27.43  27.70  263890750.0  3.999512e+09\n",
       "3  2020-12-09  27.64  28.38  27.00  28.13  323390504.0  4.062056e+09\n",
       "4  2020-12-08  29.38  29.49  27.51  27.64  323672206.0  3.990864e+09"
      ]
     },
     "execution_count": 9,
     "metadata": {},
     "output_type": "execute_result"
    }
   ],
   "source": [
    "df = pd.read_csv('https://raw.githubusercontent.com/MainakRepositor/Datasets/refs/heads/master/Cryptocurrency/binance-coin.csv')\n",
    "\n",
    "df.head()"
   ]
  }
 ],
 "metadata": {
  "kernelspec": {
   "display_name": "Python 3",
   "language": "python",
   "name": "python3"
  },
  "language_info": {
   "codemirror_mode": {
    "name": "ipython",
    "version": 3
   },
   "file_extension": ".py",
   "mimetype": "text/x-python",
   "name": "python",
   "nbconvert_exporter": "python",
   "pygments_lexer": "ipython3",
   "version": "3.11.9"
  }
 },
 "nbformat": 4,
 "nbformat_minor": 5
}
